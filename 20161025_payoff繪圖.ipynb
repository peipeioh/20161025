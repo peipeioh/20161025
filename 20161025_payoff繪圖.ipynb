{
 "cells": [
  {
   "cell_type": "code",
   "execution_count": 7,
   "metadata": {
    "collapsed": false
   },
   "outputs": [],
   "source": [
    "% matplotlib inline\n",
    "\n",
    "# % matplotlib notebook\n",
    "\n",
    "import numpy as np\n",
    "\n",
    "K = 100\n",
    "Interval = 500   # range 區間\n",
    "Premium_Call = 179\n",
    "Premium_Put = 185\n",
    "ST = np.arange ( K - Interval, K + Interval )  # Vectorization\n",
    "\n",
    "#ST\n",
    "# type(S)"
   ]
  },
  {
   "cell_type": "code",
   "execution_count": 8,
   "metadata": {
    "collapsed": true
   },
   "outputs": [],
   "source": [
    "# Payoff 計算\n",
    "\n",
    "Payoff_LongCall = np.maximum (ST - K, 0) - Premium_Call   # Long Call\n",
    "Payoff_ShortCall = - Payoff_LongCall                      # Short Call\n",
    "Payoff_LongPut = np.maximum (K - ST, 0) - Premium_Put     # Long Put\n",
    "Payoff_ShortPut = - Payoff_LongPut                        # Short Put"
   ]
  },
  {
   "cell_type": "code",
   "execution_count": 9,
   "metadata": {
    "collapsed": false
   },
   "outputs": [
    {
     "data": {
      "image/png": "[encoded data removed]",
      "text/plain": [
       "<matplotlib.figure.Figure at 0xb85b481c18>"
      ]
     },
     "metadata": {},
     "output_type": "display_data"
    }
   ],
   "source": [
    "import matplotlib.pyplot as plt\n",
    "plt.plot (ST,Payoff_LongCall)\n",
    "plt.plot (ST,Payoff_ShortCall)\n",
    "plt.axhline (0, color='black', ls='dashed')\n",
    "plt.axhline (K, color='black', ls='dashed')\n",
    "plt.axhline ( K + Premium_Call, color='black', ls='dashed' )\n",
    "plt.show()"
   ]
  },
  {
   "cell_type": "code",
   "execution_count": 10,
   "metadata": {
    "collapsed": false
   },
   "outputs": [
    {
     "data": {
      "image/png": "[encoded data removed]",
      "text/plain": [
       "<matplotlib.figure.Figure at 0xb85b4f8320>"
      ]
     },
     "metadata": {},
     "output_type": "display_data"
    }
   ],
   "source": [
    "import matplotlib.pyplot as plt\n",
    "plt.plot (ST,Payoff_LongPut)\n",
    "plt.plot (ST,Payoff_ShortPut)\n",
    "plt.axhline (0, color='black', ls='dashed')\n",
    "plt.axhline (K, color='black', ls='dashed')\n",
    "plt.axhline ( K + Premium_Put, color='black', ls='dashed' )\n",
    "plt.show()"
   ]
  },
  {
   "cell_type": "code",
   "execution_count": null,
   "metadata": {
    "collapsed": true
   },
   "outputs": [],
   "source": []
  }
 ],
 "metadata": {
  "kernelspec": {
   "display_name": "Python [Root]",
   "language": "python",
   "name": "Python [Root]"
  },
  "language_info": {
   "codemirror_mode": {
    "name": "ipython",
    "version": 3
   },
   "file_extension": ".py",
   "mimetype": "text/x-python",
   "name": "python",
   "nbconvert_exporter": "python",
   "pygments_lexer": "ipython3",
   "version": "3.5.2"
  }
 },
 "nbformat": 4,
 "nbformat_minor": 0
}
